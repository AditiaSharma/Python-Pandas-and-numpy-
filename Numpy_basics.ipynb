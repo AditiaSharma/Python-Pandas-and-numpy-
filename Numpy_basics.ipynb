{
 "cells": [
  {
   "cell_type": "markdown",
   "id": "b99cb81d",
   "metadata": {},
   "source": [
    "Module : Data Structure Assignment\n",
    "\n",
    "\n",
    "\n",
    "Problem Statement:\n",
    "\n",
    "\n",
    "You work in XYZ Corporation as a Data Analyst. Your corporation has told you to work with the \n",
    "structure of the Data.\n",
    "Tasks to be performed:\n",
    "\n",
    "    \n",
    "1. Create a list named ‘myList’ that is having the following elements: 10,20,30,’apple’, True, 8.10.\n",
    "\n",
    "a. Now in the ‘myList’, append these values: 30,40 \n",
    "b. After that reverse the elements of the ‘myList’ and store that in ‘reversedList’\n",
    "2. Create a dictonary with key values as 1,2,3 and the values as ‘data’,’information’, and ‘text’.\n",
    "a. After that eliminate the ‘text’ value form the dictonary.\n",
    "b. Add ‘features’ in the dictonary.\n",
    "c. Fetch the ‘data’ element from the dictonary and display it in the output.\n"
   ]
  },
  {
   "cell_type": "code",
   "execution_count": 17,
   "id": "ee99ff55",
   "metadata": {},
   "outputs": [],
   "source": [
    "myList = [10,20,30,\"apple\", True, 8.10]"
   ]
  },
  {
   "cell_type": "code",
   "execution_count": 18,
   "id": "34b39dd0",
   "metadata": {},
   "outputs": [
    {
     "data": {
      "text/plain": [
       "[10, 20, 30, 'apple', True, 8.1, 30, 40]"
      ]
     },
     "execution_count": 18,
     "metadata": {},
     "output_type": "execute_result"
    }
   ],
   "source": [
    "myList.extend([30,40])\n",
    "myList"
   ]
  },
  {
   "cell_type": "code",
   "execution_count": 19,
   "id": "17984568",
   "metadata": {},
   "outputs": [
    {
     "name": "stdout",
     "output_type": "stream",
     "text": [
      "[40, 30, 8.1, True, 'apple', 30, 20, 10]\n"
     ]
    }
   ],
   "source": [
    "reversedList = myList[::-1]\n",
    "print(reversedList)"
   ]
  },
  {
   "cell_type": "code",
   "execution_count": 38,
   "id": "d8cad625",
   "metadata": {},
   "outputs": [
    {
     "name": "stdout",
     "output_type": "stream",
     "text": [
      "data\n",
      "{1: 'data', 2: 'information', 3: 'features'}\n"
     ]
    }
   ],
   "source": [
    "Dict = {1: 'data', 2: 'information', 3: 'text'}\n",
    "print(Dict[1])\n",
    "Dict.pop(3)\n",
    "Dict[3] = 'features'\n",
    "print(Dict)"
   ]
  },
  {
   "cell_type": "code",
   "execution_count": 39,
   "id": "29c29d1b",
   "metadata": {},
   "outputs": [
    {
     "name": "stdout",
     "output_type": "stream",
     "text": [
      "data\n"
     ]
    }
   ],
   "source": [
    "print(Dict[1])"
   ]
  },
  {
   "cell_type": "markdown",
   "id": "e14ad576",
   "metadata": {},
   "source": [
    "3. Create a tuple and add these elements 1,2,3,apple,mango in ‘my_tuple"
   ]
  },
  {
   "cell_type": "code",
   "execution_count": 45,
   "id": "bf7b12a4",
   "metadata": {},
   "outputs": [
    {
     "data": {
      "text/plain": [
       "tuple"
      ]
     },
     "execution_count": 45,
     "metadata": {},
     "output_type": "execute_result"
    }
   ],
   "source": [
    "my_tuple = (1, 2, 3, 'apple', 'mango')"
   ]
  },
  {
   "cell_type": "code",
   "execution_count": null,
   "id": "e33e85fc",
   "metadata": {},
   "outputs": [],
   "source": [
    "4. Create another tuple named numeric_tuple consisting of only integer values 10,20,30,40,50\n",
    "a. Find the minimum value from the numeric_tuple.\n",
    "b. Concatenate my_tuple with numeric_tuple and store the result in r1.\n",
    "c. Duplicate the tuple named my_tuple 2 times and store that in ‘newdupli’.\n"
   ]
  },
  {
   "cell_type": "code",
   "execution_count": 48,
   "id": "92b88a4f",
   "metadata": {},
   "outputs": [
    {
     "data": {
      "text/plain": [
       "10"
      ]
     },
     "execution_count": 48,
     "metadata": {},
     "output_type": "execute_result"
    }
   ],
   "source": [
    "numeric_tuple = (10, 20, 30 ,40, 50)\n",
    "min(numeric_tuple)"
   ]
  },
  {
   "cell_type": "code",
   "execution_count": 51,
   "id": "9a6b4ee5",
   "metadata": {},
   "outputs": [
    {
     "name": "stdout",
     "output_type": "stream",
     "text": [
      "(1, 2, 3, 'apple', 'mango', 10, 20, 30, 40, 50)\n"
     ]
    }
   ],
   "source": [
    "r1 = my_tuple + numeric_tuple\n",
    "print(r1)"
   ]
  },
  {
   "cell_type": "code",
   "execution_count": 58,
   "id": "c249f376",
   "metadata": {},
   "outputs": [
    {
     "name": "stdout",
     "output_type": "stream",
     "text": [
      "(1, 2, 3, 'apple', 'mango', 1, 2, 3, 'apple', 'mango')\n"
     ]
    }
   ],
   "source": [
    "newdupil = ((my_tuple) * 2)\n",
    "print(newdupil)"
   ]
  },
  {
   "cell_type": "code",
   "execution_count": null,
   "id": "982c204d",
   "metadata": {},
   "outputs": [],
   "source": [
    "5. Create 2 sets with name set1 and set2, where set1 contains{1,2,3,4,5} and set2 to \n",
    "contains{2,3,7,6,1}\n",
    "a. Perform the below operation:\n",
    "a. set1 union set2\n",
    "b. set1 intersection set2 \n",
    "c. set1 difference set2"
   ]
  },
  {
   "cell_type": "code",
   "execution_count": 61,
   "id": "4c29374f",
   "metadata": {},
   "outputs": [
    {
     "name": "stdout",
     "output_type": "stream",
     "text": [
      "{1, 2, 3, 4, 5, 6, 7} {1, 2, 3} {4, 5}\n"
     ]
    }
   ],
   "source": [
    "set1 = {1,2,3,4,5}\n",
    "set2 = {2,3,7,6,1}\n",
    "union = set1.union(set2)\n",
    "intersection = set1.intersection(set2)\n",
    "diff = set1 - set2\n",
    "print(union, intersection, diff)"
   ]
  },
  {
   "cell_type": "code",
   "execution_count": null,
   "id": "cf3daf67",
   "metadata": {},
   "outputs": [],
   "source": []
  },
  {
   "cell_type": "markdown",
   "id": "72a06cd9",
   "metadata": {},
   "source": [
    "Module 4: Numpy Assignment\n",
    "\n",
    "\n",
    "Problem Statement:\n",
    "\n",
    "You work in XYZ Corporation as a Data Analyst. Your corporation has told you to use the numpy \n",
    "package and do some tasks related to that:\n",
    "\n",
    "Tasks to be performed:\n",
    "1. Create a 3x3 matrix array with values ranging from 2 to 10.\n"
   ]
  },
  {
   "cell_type": "code",
   "execution_count": 1,
   "id": "62f64e5a",
   "metadata": {},
   "outputs": [
    {
     "name": "stdout",
     "output_type": "stream",
     "text": [
      "[[ 2  3  4]\n",
      " [ 5  6  7]\n",
      " [ 8  9 10]]\n"
     ]
    }
   ],
   "source": [
    "import numpy as np\n",
    "x = np.arange(2,11).reshape(3,3)\n",
    "print(x)"
   ]
  },
  {
   "cell_type": "markdown",
   "id": "4bd6eb97",
   "metadata": {},
   "source": [
    "2. Create a numpy array having user input values and convert the integer type to the float type \n",
    "of the elements of the array. For instance:\n",
    "Original array\n",
    "[1, 2, 3, 4]\n",
    "Array converted to a float type:\n",
    "[ 1. 2. 3. 4.]\n"
   ]
  },
  {
   "cell_type": "code",
   "execution_count": 13,
   "id": "d66345df",
   "metadata": {},
   "outputs": [
    {
     "name": "stdout",
     "output_type": "stream",
     "text": [
      "Size of array:3\n",
      "Element:1\n",
      "Element:2\n",
      "Element:3\n"
     ]
    }
   ],
   "source": [
    "arr = np.array([])\n",
    "a=int(input(\"Size of array:\"))\n",
    "for i in range(a):\n",
    "    x=int(input(\"Element:\"))\n",
    "    arr = np.append(arr, [x])\n"
   ]
  },
  {
   "cell_type": "code",
   "execution_count": 16,
   "id": "1c538112",
   "metadata": {},
   "outputs": [
    {
     "name": "stdout",
     "output_type": "stream",
     "text": [
      "[1. 2. 3.]\n"
     ]
    },
    {
     "name": "stderr",
     "output_type": "stream",
     "text": [
      "<ipython-input-16-6eb62b0ca1f8>:1: DeprecationWarning: `np.float` is a deprecated alias for the builtin `float`. To silence this warning, use `float` by itself. Doing this will not modify any behavior and is safe. If you specifically wanted the numpy scalar type, use `np.float64` here.\n",
      "Deprecated in NumPy 1.20; for more details and guidance: https://numpy.org/devdocs/release/1.20.0-notes.html#deprecations\n",
      "  arr2 = arr.astype(np.float)\n"
     ]
    }
   ],
   "source": [
    "arr2 = arr.astype(np.float)\n",
    "print(arr2)"
   ]
  },
  {
   "cell_type": "code",
   "execution_count": null,
   "id": "64d13b44",
   "metadata": {},
   "outputs": [],
   "source": [
    "3. Write a Numpy program to append values to the end of an array. For instance:\n",
    "Original array:\n",
    "[10, 20, 30]\n",
    "After append values to the end of the array:\n",
    "[10 20 30 40 50 60 70 80 90]\n"
   ]
  },
  {
   "cell_type": "code",
   "execution_count": 17,
   "id": "24a6a517",
   "metadata": {},
   "outputs": [],
   "source": [
    "my_array = np.array([10,20,30])"
   ]
  },
  {
   "cell_type": "code",
   "execution_count": 18,
   "id": "d246d012",
   "metadata": {},
   "outputs": [
    {
     "data": {
      "text/plain": [
       "array([10, 20, 30, 40, 50, 60, 70, 80, 90])"
      ]
     },
     "execution_count": 18,
     "metadata": {},
     "output_type": "execute_result"
    }
   ],
   "source": [
    "np.append(my_array, (40,50,60,70,80,90))"
   ]
  },
  {
   "cell_type": "code",
   "execution_count": null,
   "id": "b55b3f81",
   "metadata": {},
   "outputs": [],
   "source": [
    "4. Create two numpy arrays and add the elements of both the arrays and store the result in \n",
    "sumArray.\n"
   ]
  },
  {
   "cell_type": "code",
   "execution_count": 26,
   "id": "5185bcb8",
   "metadata": {},
   "outputs": [
    {
     "data": {
      "text/plain": [
       "array([4, 6, 8])"
      ]
     },
     "execution_count": 26,
     "metadata": {},
     "output_type": "execute_result"
    }
   ],
   "source": [
    "a1 = np.array([1, 2, 3])\n",
    "a2 = np.array([3, 4, 5])\n",
    "sumArray = np.add(a1, a2)\n",
    "sumArray"
   ]
  },
  {
   "cell_type": "code",
   "execution_count": null,
   "id": "402be610",
   "metadata": {},
   "outputs": [],
   "source": [
    "5. Create a 3*3 array having values from 10-90(interval of 10) and store that in array1. Perform \n",
    "the following tasks:\n",
    "a. Extract the 1st row from the array.\n",
    "b. Extract the last element from the array"
   ]
  },
  {
   "cell_type": "code",
   "execution_count": 30,
   "id": "bbae1c13",
   "metadata": {},
   "outputs": [
    {
     "name": "stdout",
     "output_type": "stream",
     "text": [
      "[[10 20 30]\n",
      " [40 50 60]\n",
      " [70 80 90]]\n",
      "[[10 20 30]]\n",
      "90\n"
     ]
    }
   ],
   "source": [
    "array1 = [[30*y + 10*x for x in range(1, 4)] for y in range(3)]\n",
    "print(x)\n",
    "\n",
    "print(x[:1])\n",
    "print(x[2][2])"
   ]
  },
  {
   "cell_type": "code",
   "execution_count": null,
   "id": "3fca96f2",
   "metadata": {},
   "outputs": [],
   "source": []
  },
  {
   "cell_type": "code",
   "execution_count": null,
   "id": "50cceda1",
   "metadata": {},
   "outputs": [],
   "source": [
    "Module 4: Numpy Assignment\n",
    "Problem Statement:\n",
    "You work in XYZ Company as a Python. The company officials want you to build a python program.\n",
    "Tasks to be performed:\n",
    "1. Create a function that takes dimensions as tuples e.g.(3, 3) and a numeric value and returns a \n",
    "Numpy array of the given dimension filled with the given value e.g.: solve((3, 3), 5) will return \n",
    "[\n",
    " [5, 5, 5],\n",
    " [5, 5, 5],\n",
    " [5, 5, 5]\n",
    "]\n"
   ]
  },
  {
   "cell_type": "code",
   "execution_count": 2,
   "id": "76ed879d",
   "metadata": {},
   "outputs": [
    {
     "name": "stdout",
     "output_type": "stream",
     "text": [
      "[[5 5 5]\n",
      " [5 5 5]\n",
      " [5 5 5]]\n"
     ]
    }
   ],
   "source": [
    "import numpy as np\n",
    "\n",
    "def solve(dim_tuple,fillnumber):\n",
    "\n",
    "    return np.full(dim_tuple,fillnumber)\n",
    "\n",
    "x= solve((3,3),5)\n",
    "\n",
    "print(x)"
   ]
  },
  {
   "cell_type": "code",
   "execution_count": null,
   "id": "aec92814",
   "metadata": {},
   "outputs": [],
   "source": [
    "2. Create a method that takes n Numpy arrays of same dimensions sums them and return the \n",
    "answer.\n"
   ]
  },
  {
   "cell_type": "code",
   "execution_count": 16,
   "id": "b16819af",
   "metadata": {},
   "outputs": [
    {
     "name": "stdout",
     "output_type": "stream",
     "text": [
      "Enter no. of arrays you wish to take: 2\n",
      "Enter no. of rows here: 2\n",
      "Enter no. of columns here: 2\n",
      "[[48 27]\n",
      " [37 29]]\n",
      "[[27 15]\n",
      " [45 14]]\n"
     ]
    },
    {
     "data": {
      "text/plain": [
       "array([[75., 42.],\n",
       "       [82., 43.]])"
      ]
     },
     "execution_count": 16,
     "metadata": {},
     "output_type": "execute_result"
    }
   ],
   "source": [
    "import numpy as np\n",
    "def sumarr(n,a,b):\n",
    "    sum = np.zeros((a,b))\n",
    "    for i in range(0, n):\n",
    "        arr = np.random.randint(10, 50, (a,b))\n",
    "        print(arr)\n",
    "        sum = sum + arr\n",
    "    \n",
    "    return sum\n",
    "    \n",
    "    \n",
    "n= int(input(\"Enter no. of arrays you wish to take: \"))\n",
    "a = int(input(\"Enter no. of rows here: \"))\n",
    "b = int(input(\"Enter no. of columns here: \"))\n",
    "sumarr(n,a,b)"
   ]
  },
  {
   "cell_type": "code",
   "execution_count": 10,
   "id": "5d61c126",
   "metadata": {},
   "outputs": [
    {
     "data": {
      "text/plain": [
       "array([ 6,  8, 10, 12])"
      ]
     },
     "execution_count": 10,
     "metadata": {},
     "output_type": "execute_result"
    }
   ],
   "source": [
    "arr1 = np.array([1,2,3,4])\n",
    "arr2 = np.array([5,6,7,8])\n",
    "arr1+arr2"
   ]
  },
  {
   "cell_type": "code",
   "execution_count": 61,
   "id": "f3acdb95",
   "metadata": {},
   "outputs": [
    {
     "name": "stdout",
     "output_type": "stream",
     "text": [
      "enter row: 2\n",
      "enter column: 2\n",
      "[[1 2]\n",
      " [4 5]]\n"
     ]
    }
   ],
   "source": [
    "ar = np.array([[1, 2, 3], [4, 5, 6]])\n",
    "\n",
    "def main():\n",
    "    N = int(input(\"enter row: \"))\n",
    "    M = int(input(\"enter column: \"))\n",
    "    print(ar[0:N, 0:M])\n",
    "\n",
    "main()\n",
    "    "
   ]
  },
  {
   "cell_type": "code",
   "execution_count": null,
   "id": "f0f6856a",
   "metadata": {},
   "outputs": [],
   "source": []
  },
  {
   "cell_type": "code",
   "execution_count": null,
   "id": "51458b18",
   "metadata": {},
   "outputs": [],
   "source": []
  },
  {
   "cell_type": "code",
   "execution_count": null,
   "id": "f7e53593",
   "metadata": {},
   "outputs": [],
   "source": [
    "3. Given a 2 D Array of N X M Dimension, Write a function that accepts this array as well as two \n",
    "numbers N and M. The method should return the top-left N X M sub matrix e.g:\n",
    " [\n",
    " [1, 2, 3],\n",
    " [4, 5, 6],\n",
    " [7, 8, 9],\n",
    " ]\n",
    "top_left_sub_matrix (matrix, 2, 2) -> should return:\n",
    " [\n",
    " [1, 2]\n",
    " [4, 5]\n",
    " ]\n",
    "\n"
   ]
  },
  {
   "cell_type": "code",
   "execution_count": 62,
   "id": "c973bf70",
   "metadata": {},
   "outputs": [
    {
     "name": "stdout",
     "output_type": "stream",
     "text": [
      "enter row: 2\n",
      "enter column: 2\n",
      "[[1 2]\n",
      " [4 5]]\n"
     ]
    }
   ],
   "source": [
    "ar = np.array([[1, 2, 3], [4, 5, 6]])\n",
    "\n",
    "def main():\n",
    "    N = int(input(\"enter row: \"))\n",
    "    M = int(input(\"enter column: \"))\n",
    "    print(ar[0:N, 0:M])\n",
    "\n",
    "main()"
   ]
  },
  {
   "cell_type": "code",
   "execution_count": null,
   "id": "ecf6d4b1",
   "metadata": {},
   "outputs": [],
   "source": [
    "4. Given a 2 D Array of N X M Dimension, Write a function that accepts this array as well as two \n",
    "numbers N and M The method should return the bottom-right N X M sub matrix e.g.:\n",
    " [\n",
    " [1, 2, 3],\n",
    " [4, 5, 6],\n",
    " [7, 8, 9],\n",
    " ]\n",
    "sub_matrix(matrix, 1, 1) -> should return : (Keep in mind these arrays are zero indexed)\n",
    " [\n",
    " [5, 6]\n",
    " [8, 9]\n",
    " ]\n"
   ]
  },
  {
   "cell_type": "code",
   "execution_count": 72,
   "id": "d60d0cf0",
   "metadata": {},
   "outputs": [
    {
     "name": "stdout",
     "output_type": "stream",
     "text": [
      "enter row: 1\n",
      "enter column: 0\n",
      "[[4 5 6]]\n"
     ]
    }
   ],
   "source": [
    "ar2 = np.array([\n",
    " [1, 2, 3],\n",
    " [4, 5, 6],\n",
    " [7, 8, 9],\n",
    " ])\n",
    "#here\n",
    "N = 3\n",
    "M = 3\n",
    "def main():\n",
    "    n = int(input(\"enter row: \"))\n",
    "    m = int(input(\"enter column: \"))\n",
    "    print(ar[n:, m:])\n",
    "    \n",
    "main()\n"
   ]
  },
  {
   "cell_type": "code",
   "execution_count": null,
   "id": "3c963245",
   "metadata": {},
   "outputs": [],
   "source": []
  },
  {
   "cell_type": "markdown",
   "id": "2e2f0fac",
   "metadata": {},
   "source": [
    "5. Given a 1 D Numpy Array. Write a function that accepts this array as parameters. The method \n",
    "should return a dictionary with 'mean' and 'std_dev' as key and array's mean and array's \n",
    "standard deviation as values:\n",
    " [1, 1, 1]\n",
    "solution(arr) -> should return :\n",
    " {'mean': 1.0, 'std_dev': 0.0}"
   ]
  },
  {
   "cell_type": "code",
   "execution_count": 3,
   "id": "cc8387d0",
   "metadata": {},
   "outputs": [
    {
     "name": "stdout",
     "output_type": "stream",
     "text": [
      "{'mean': 4.4, 'std_dev': 2.1540659228538015}\n"
     ]
    }
   ],
   "source": [
    "import numpy as np\n",
    "def main():\n",
    "    a = np.array([1,3,5,6,7])\n",
    "    \n",
    "    m = np.mean(a)\n",
    "    s = np.std(a)\n",
    "    dict = {'mean': m , 'std_dev': s}\n",
    "    print(dict)\n",
    "    \n",
    "    \n",
    "a = np.array([1,3,5,6,7])\n",
    "main()\n",
    "    \n",
    "    "
   ]
  },
  {
   "cell_type": "code",
   "execution_count": null,
   "id": "324b54cb",
   "metadata": {},
   "outputs": [],
   "source": []
  }
 ],
 "metadata": {
  "kernelspec": {
   "display_name": "Python 3 (ipykernel)",
   "language": "python",
   "name": "python3"
  },
  "language_info": {
   "codemirror_mode": {
    "name": "ipython",
    "version": 3
   },
   "file_extension": ".py",
   "mimetype": "text/x-python",
   "name": "python",
   "nbconvert_exporter": "python",
   "pygments_lexer": "ipython3",
   "version": "3.8.16"
  }
 },
 "nbformat": 4,
 "nbformat_minor": 5
}
